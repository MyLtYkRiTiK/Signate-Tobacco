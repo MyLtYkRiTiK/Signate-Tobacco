{
 "cells": [
  {
   "cell_type": "code",
   "execution_count": null,
   "metadata": {},
   "outputs": [],
   "source": [
    "import os\n",
    "import pandas as pd\n",
    "import json\n",
    "import glob\n",
    "from PIL import Image\n",
    "import numpy as np\n",
    "import pickle\n",
    "import cv2\n",
    "import mmcv\n",
    "import random\n",
    "import matplotlib.pyplot as plt"
   ]
  },
  {
   "cell_type": "code",
   "execution_count": null,
   "metadata": {},
   "outputs": [],
   "source": [
    "random.seed(42)\n",
    "\n",
    "pics = os.listdir('data/train_annotations')\n",
    "random.shuffle(pics)\n",
    "train = pics[:170]\n",
    "val = pics[170:]\n",
    "len(train), len(val), "
   ]
  },
  {
   "cell_type": "code",
   "execution_count": null,
   "metadata": {},
   "outputs": [],
   "source": [
    "labels = os.listdir('data/master_images/')\n",
    "labels = sorted([x[:-4] for x in labels])\n",
    "labels = dict(zip(labels, range(len(labels))))\n",
    "with open('data/remap_dict.json', 'w') as handle:\n",
    "        json.dump(labels, handle)\n",
    "        print('remap_dict ready')"
   ]
  },
  {
   "cell_type": "code",
   "execution_count": null,
   "metadata": {},
   "outputs": [],
   "source": [
    "def annot(folder=train):\n",
    "    ll = []\n",
    "    annot_path = './data/train_annotations'\n",
    "    images_path = './data/train_images'\n",
    "    save_path = './data/resized_images'\n",
    "    with open('./data/remap_dict.json', 'r') as f:\n",
    "        remap_dict = json.load(f)\n",
    "    annotations_result = []\n",
    "\n",
    "\n",
    "    all_ids = os.listdir(annot_path)\n",
    "    for _file in folder:\n",
    "        _fid = _file.split('.')[0]\n",
    "        image_path = os.path.join(images_path, '{}.jpg'.format(_fid))\n",
    "        image = cv2.imread(image_path)\n",
    "\n",
    "        h, w, c = image.shape\n",
    "        i = 0\n",
    "        #нарезаю рисунки на квадраты 816px с отступом друг от друга на 408px\n",
    "        for ww in range(w//408):\n",
    "            for hh in range(h//408):\n",
    "                w0 = ww*408\n",
    "                h0 = hh*408\n",
    "                h1 = h0+816\n",
    "                w1 = w0+816\n",
    "                if w1>w or h1>h:\n",
    "                    break\n",
    "                image1 = image[h0:h1, w0:w1]\n",
    "                file_path = os.path.join(annot_path, _file)\n",
    "\n",
    "                annot_instance = {}\n",
    "                annot_instance['filename'] = 'data/resized_images/{}_{:02d}.jpg'.format(_fid, i)\n",
    "                annot_instance['height'] = image1.shape[0]\n",
    "                annot_instance['width'] = image1.shape[1]\n",
    "                annot_instance['ann'] = {}\n",
    "\n",
    "                with open(file_path, 'r') as f:\n",
    "                    annot_data = json.load(f)\n",
    "                boxes = []\n",
    "                labels = []\n",
    "\n",
    "                for label in annot_data['labels']:\n",
    "                    class_label = label['category']\n",
    "                    x1 = int(label['box2d']['x1'])\n",
    "                    x2 = int(label['box2d']['x2'])\n",
    "                    y1 = int(label['box2d']['y1'])\n",
    "                    y2 = int(label['box2d']['y2'])\n",
    "                    if w0<=x1<=w1 and w0<=x2<=w1 and h0<=y1<=h1 and h0<=y2<=h1:\n",
    "                        boxes.append([x1-w0, y1-h0, x2-w0, y2-h0])\n",
    "                        class_label = remap_dict[str(class_label)]\n",
    "                        labels.append(class_label)\n",
    "                # записываю аннотации и картинки только с коробками, пустые пропускаю\n",
    "                if len(labels)>0:\n",
    "                    cv2.imwrite(os.path.join(save_path, '{}_{:02d}.jpg'.format(_fid, i)), image1)\n",
    "                    annot_instance['ann']['bboxes'] = (np.array(boxes)).astype(np.float32)\n",
    "                    annot_instance['ann']['labels'] = (np.array(labels)).astype(np.int64)\n",
    "                    annot_instance['ann']['bboxes_ignore'] = np.zeros((0, 4), dtype=np.float32)\n",
    "                    annot_instance['ann']['labels_ignore'] = (np.array([])).astype(np.int64)\n",
    "                    annotations_result.append(annot_instance)\n",
    "                i+=1\n",
    "    if folder == train:\n",
    "        fol = 'train'\n",
    "    else: \n",
    "        fol = 'val'\n",
    "    mmcv.dump(annotations_result, './data/'+fol+'_mmannotations.pkl')\n",
    "    print('annot ready')"
   ]
  },
  {
   "cell_type": "code",
   "execution_count": null,
   "metadata": {},
   "outputs": [],
   "source": [
    "annot(val)\n",
    "annot(train)"
   ]
  },
  {
   "cell_type": "code",
   "execution_count": null,
   "metadata": {},
   "outputs": [],
   "source": [
    "with open('data/val_mmannotations.pkl', 'rb') as handle:\n",
    "        unpickler = pickle.Unpickler(handle)\n",
    "        data = unpickler.load()"
   ]
  },
  {
   "cell_type": "code",
   "execution_count": null,
   "metadata": {},
   "outputs": [],
   "source": [
    "data[55]['filename'], data[55]['ann']['bboxes']"
   ]
  },
  {
   "cell_type": "code",
   "execution_count": null,
   "metadata": {},
   "outputs": [],
   "source": [
    "for i in range(10):\n",
    "    img = cv2.imread(data[i]['filename'])\n",
    "    for box in data[i]['ann']['bboxes']:\n",
    "        x1, y1, x2, y2 = box\n",
    "        cv2.rectangle(img, (x1, y1, x2-x1, y2-y1), 3, 3)\n",
    "    plt.imshow(img)\n",
    "    plt.axis('off')\n",
    "    plt.show()"
   ]
  }
 ],
 "metadata": {
  "kernelspec": {
   "display_name": "Python 3",
   "language": "python",
   "name": "python3"
  },
  "language_info": {
   "codemirror_mode": {
    "name": "ipython",
    "version": 3
   },
   "file_extension": ".py",
   "mimetype": "text/x-python",
   "name": "python",
   "nbconvert_exporter": "python",
   "pygments_lexer": "ipython3",
   "version": "3.7.1"
  }
 },
 "nbformat": 4,
 "nbformat_minor": 2
}
